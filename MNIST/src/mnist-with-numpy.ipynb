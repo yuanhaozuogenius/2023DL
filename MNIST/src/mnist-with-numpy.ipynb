{
 "metadata": {
  "kernelspec": {
   "language": "python",
   "display_name": "Python 3",
   "name": "python3"
  },
  "language_info": {
   "pygments_lexer": "ipython3",
   "nbconvert_exporter": "python",
   "version": "3.6.4",
   "file_extension": ".py",
   "codemirror_mode": {
    "name": "ipython",
    "version": 3
   },
   "name": "python",
   "mimetype": "text/x-python"
  }
 },
 "nbformat_minor": 4,
 "nbformat": 4,
 "cells": [
  {
   "cell_type": "code",
   "source": [
    "# This Python 3 environment comes with many helpful analytics libraries installed\n",
    "# It is defined by the kaggle/python Docker image: https://github.com/kaggle/docker-python\n",
    "# For example, here's several helpful packages to load\n",
    "\n",
    "import numpy as np # linear algebra\n",
    "import pandas as pd # data processing, CSV file I/O (e.g. pd.read_csv)\n",
    "from matplotlib import pyplot as plt \n",
    "\n",
    "# Input data files are available in the read-only \"../input/\" directory\n",
    "# For example, running this (by clicking run or pressing Shift+Enter) will list all files under the input directory\n",
    "\n",
    "# import os\n",
    "# for dirname, _, filenames in os.walk('MNIST/data'):\n",
    "#     for filename in filenames:\n",
    "#         print(os.path.join(dirname, filename))\n",
    "\n",
    "# You can write up to 20GB to the current directory (/kaggle/working/) that gets preserved as output when you create a version using \"Save & Run All\" \n",
    "# You can also write temporary files to /kaggle/temp/, but they won't be saved outside of the current session"
   ],
   "metadata": {
    "_uuid": "86e030bc-954e-4d0e-af06-f18e62707be7",
    "_cell_guid": "6f815f98-f29e-434b-b419-9f5aed7a3fdb",
    "collapsed": false,
    "execution": {
     "iopub.status.busy": "2023-10-10T03:18:12.555772Z",
     "iopub.execute_input": "2023-10-10T03:18:12.556156Z",
     "iopub.status.idle": "2023-10-10T03:18:12.566374Z",
     "shell.execute_reply.started": "2023-10-10T03:18:12.556126Z",
     "shell.execute_reply": "2023-10-10T03:18:12.564674Z"
    },
    "jupyter": {
     "outputs_hidden": false
    },
    "trusted": true,
    "pycharm": {
     "name": "#%%\n"
    }
   },
   "execution_count": 4,
   "outputs": []
  },
  {
   "cell_type": "code",
   "source": [
    "data = pd.read_csv('../data/train.csv')\n",
    "data.head()"
   ],
   "metadata": {
    "_uuid": "08d70540-3baf-4ded-8f3c-43fabcef11fd",
    "_cell_guid": "acd112ae-a1a9-46cd-a56f-5a10d31ff028",
    "collapsed": false,
    "execution": {
     "iopub.status.busy": "2023-10-10T03:18:12.568413Z",
     "iopub.execute_input": "2023-10-10T03:18:12.569108Z",
     "iopub.status.idle": "2023-10-10T03:18:13.906819Z",
     "shell.execute_reply.started": "2023-10-10T03:18:12.569062Z",
     "shell.execute_reply": "2023-10-10T03:18:13.905655Z"
    },
    "jupyter": {
     "outputs_hidden": false
    },
    "trusted": true,
    "pycharm": {
     "name": "#%%\n"
    }
   },
   "execution_count": 5,
   "outputs": [
    {
     "data": {
      "text/plain": "   label  pixel0  pixel1  pixel2  pixel3  pixel4  pixel5  pixel6  pixel7  \\\n0      1       0       0       0       0       0       0       0       0   \n1      0       0       0       0       0       0       0       0       0   \n2      1       0       0       0       0       0       0       0       0   \n3      4       0       0       0       0       0       0       0       0   \n4      0       0       0       0       0       0       0       0       0   \n\n   pixel8  ...  pixel774  pixel775  pixel776  pixel777  pixel778  pixel779  \\\n0       0  ...         0         0         0         0         0         0   \n1       0  ...         0         0         0         0         0         0   \n2       0  ...         0         0         0         0         0         0   \n3       0  ...         0         0         0         0         0         0   \n4       0  ...         0         0         0         0         0         0   \n\n   pixel780  pixel781  pixel782  pixel783  \n0         0         0         0         0  \n1         0         0         0         0  \n2         0         0         0         0  \n3         0         0         0         0  \n4         0         0         0         0  \n\n[5 rows x 785 columns]",
      "text/html": "<div>\n<style scoped>\n    .dataframe tbody tr th:only-of-type {\n        vertical-align: middle;\n    }\n\n    .dataframe tbody tr th {\n        vertical-align: top;\n    }\n\n    .dataframe thead th {\n        text-align: right;\n    }\n</style>\n<table border=\"1\" class=\"dataframe\">\n  <thead>\n    <tr style=\"text-align: right;\">\n      <th></th>\n      <th>label</th>\n      <th>pixel0</th>\n      <th>pixel1</th>\n      <th>pixel2</th>\n      <th>pixel3</th>\n      <th>pixel4</th>\n      <th>pixel5</th>\n      <th>pixel6</th>\n      <th>pixel7</th>\n      <th>pixel8</th>\n      <th>...</th>\n      <th>pixel774</th>\n      <th>pixel775</th>\n      <th>pixel776</th>\n      <th>pixel777</th>\n      <th>pixel778</th>\n      <th>pixel779</th>\n      <th>pixel780</th>\n      <th>pixel781</th>\n      <th>pixel782</th>\n      <th>pixel783</th>\n    </tr>\n  </thead>\n  <tbody>\n    <tr>\n      <th>0</th>\n      <td>1</td>\n      <td>0</td>\n      <td>0</td>\n      <td>0</td>\n      <td>0</td>\n      <td>0</td>\n      <td>0</td>\n      <td>0</td>\n      <td>0</td>\n      <td>0</td>\n      <td>...</td>\n      <td>0</td>\n      <td>0</td>\n      <td>0</td>\n      <td>0</td>\n      <td>0</td>\n      <td>0</td>\n      <td>0</td>\n      <td>0</td>\n      <td>0</td>\n      <td>0</td>\n    </tr>\n    <tr>\n      <th>1</th>\n      <td>0</td>\n      <td>0</td>\n      <td>0</td>\n      <td>0</td>\n      <td>0</td>\n      <td>0</td>\n      <td>0</td>\n      <td>0</td>\n      <td>0</td>\n      <td>0</td>\n      <td>...</td>\n      <td>0</td>\n      <td>0</td>\n      <td>0</td>\n      <td>0</td>\n      <td>0</td>\n      <td>0</td>\n      <td>0</td>\n      <td>0</td>\n      <td>0</td>\n      <td>0</td>\n    </tr>\n    <tr>\n      <th>2</th>\n      <td>1</td>\n      <td>0</td>\n      <td>0</td>\n      <td>0</td>\n      <td>0</td>\n      <td>0</td>\n      <td>0</td>\n      <td>0</td>\n      <td>0</td>\n      <td>0</td>\n      <td>...</td>\n      <td>0</td>\n      <td>0</td>\n      <td>0</td>\n      <td>0</td>\n      <td>0</td>\n      <td>0</td>\n      <td>0</td>\n      <td>0</td>\n      <td>0</td>\n      <td>0</td>\n    </tr>\n    <tr>\n      <th>3</th>\n      <td>4</td>\n      <td>0</td>\n      <td>0</td>\n      <td>0</td>\n      <td>0</td>\n      <td>0</td>\n      <td>0</td>\n      <td>0</td>\n      <td>0</td>\n      <td>0</td>\n      <td>...</td>\n      <td>0</td>\n      <td>0</td>\n      <td>0</td>\n      <td>0</td>\n      <td>0</td>\n      <td>0</td>\n      <td>0</td>\n      <td>0</td>\n      <td>0</td>\n      <td>0</td>\n    </tr>\n    <tr>\n      <th>4</th>\n      <td>0</td>\n      <td>0</td>\n      <td>0</td>\n      <td>0</td>\n      <td>0</td>\n      <td>0</td>\n      <td>0</td>\n      <td>0</td>\n      <td>0</td>\n      <td>0</td>\n      <td>...</td>\n      <td>0</td>\n      <td>0</td>\n      <td>0</td>\n      <td>0</td>\n      <td>0</td>\n      <td>0</td>\n      <td>0</td>\n      <td>0</td>\n      <td>0</td>\n      <td>0</td>\n    </tr>\n  </tbody>\n</table>\n<p>5 rows × 785 columns</p>\n</div>"
     },
     "execution_count": 5,
     "metadata": {},
     "output_type": "execute_result"
    }
   ]
  },
  {
   "cell_type": "code",
   "source": [
    "data = np.array(data)\n",
    "m, n = data.shape\n",
    "print(data, m, n,data.shape)\n",
    "np.random.shuffle(data) # shuffle before splitting into dev and training sets"
   ],
   "metadata": {
    "_uuid": "683530dd-4835-4186-84c8-c52af7dd5f23",
    "_cell_guid": "e8d4b9c0-f8e9-425f-a588-36c5ce4dd12b",
    "collapsed": false,
    "execution": {
     "iopub.status.busy": "2023-10-10T03:18:13.908569Z",
     "iopub.execute_input": "2023-10-10T03:18:13.908776Z",
     "iopub.status.idle": "2023-10-10T03:18:14.404166Z",
     "shell.execute_reply.started": "2023-10-10T03:18:13.908759Z",
     "shell.execute_reply": "2023-10-10T03:18:14.403166Z"
    },
    "jupyter": {
     "outputs_hidden": false
    },
    "trusted": true,
    "pycharm": {
     "name": "#%%\n"
    }
   },
   "execution_count": 6,
   "outputs": [
    {
     "name": "stdout",
     "output_type": "stream",
     "text": [
      "[[1 0 0 ... 0 0 0]\n",
      " [0 0 0 ... 0 0 0]\n",
      " [1 0 0 ... 0 0 0]\n",
      " ...\n",
      " [7 0 0 ... 0 0 0]\n",
      " [6 0 0 ... 0 0 0]\n",
      " [9 0 0 ... 0 0 0]] 42000 785 (42000, 785)\n"
     ]
    }
   ]
  },
  {
   "cell_type": "code",
   "source": [
    "dev = data[0:1000].T\n",
    "train = data[1000:m].T\n",
    "print(\"dev:\",dev)\n",
    "print(\"train:\",train)"
   ],
   "metadata": {
    "_uuid": "9d302d21-4afe-4ca4-a54e-f0f14a54b5c4",
    "_cell_guid": "40ce1a33-f51f-4037-a756-882cb0b17f18",
    "collapsed": false,
    "execution": {
     "iopub.status.busy": "2023-10-10T03:18:14.405473Z",
     "iopub.execute_input": "2023-10-10T03:18:14.406090Z",
     "iopub.status.idle": "2023-10-10T03:18:14.413226Z",
     "shell.execute_reply.started": "2023-10-10T03:18:14.406062Z",
     "shell.execute_reply": "2023-10-10T03:18:14.412237Z"
    },
    "jupyter": {
     "outputs_hidden": false
    },
    "trusted": true,
    "pycharm": {
     "name": "#%%\n"
    }
   },
   "execution_count": 7,
   "outputs": [
    {
     "name": "stdout",
     "output_type": "stream",
     "text": [
      "dev: [[8 8 9 ... 4 7 6]\n",
      " [0 0 0 ... 0 0 0]\n",
      " [0 0 0 ... 0 0 0]\n",
      " ...\n",
      " [0 0 0 ... 0 0 0]\n",
      " [0 0 0 ... 0 0 0]\n",
      " [0 0 0 ... 0 0 0]]\n",
      "train: [[4 0 2 ... 2 0 0]\n",
      " [0 0 0 ... 0 0 0]\n",
      " [0 0 0 ... 0 0 0]\n",
      " ...\n",
      " [0 0 0 ... 0 0 0]\n",
      " [0 0 0 ... 0 0 0]\n",
      " [0 0 0 ... 0 0 0]]\n"
     ]
    }
   ]
  },
  {
   "cell_type": "code",
   "source": [
    "Y_dev = dev[0]\n",
    "X_dev = dev[1:n]/255\n",
    "print(\"X_dev.shape:\",X_dev.shape)\n",
    "print(\"Y_dev.shape:\",Y_dev.shape)\n",
    "print(\"X_dev:\",X_dev)\n",
    "print(\"Y_dev:\",Y_dev)"
   ],
   "metadata": {
    "_uuid": "5da1c0e6-a3d6-4f74-8d53-5e83fbb5e538",
    "_cell_guid": "486b27bd-8db6-4bb9-95e0-4d076effa836",
    "collapsed": false,
    "execution": {
     "iopub.status.busy": "2023-10-10T03:18:14.415363Z",
     "iopub.execute_input": "2023-10-10T03:18:14.416403Z",
     "iopub.status.idle": "2023-10-10T03:18:14.431637Z",
     "shell.execute_reply.started": "2023-10-10T03:18:14.416353Z",
     "shell.execute_reply": "2023-10-10T03:18:14.431061Z"
    },
    "jupyter": {
     "outputs_hidden": false
    },
    "trusted": true,
    "pycharm": {
     "name": "#%%\n"
    }
   },
   "execution_count": 8,
   "outputs": [
    {
     "name": "stdout",
     "output_type": "stream",
     "text": [
      "X_dev.shape: (784, 1000)\n",
      "Y_dev.shape: (1000,)\n",
      "X_dev: [[0. 0. 0. ... 0. 0. 0.]\n",
      " [0. 0. 0. ... 0. 0. 0.]\n",
      " [0. 0. 0. ... 0. 0. 0.]\n",
      " ...\n",
      " [0. 0. 0. ... 0. 0. 0.]\n",
      " [0. 0. 0. ... 0. 0. 0.]\n",
      " [0. 0. 0. ... 0. 0. 0.]]\n",
      "Y_dev: [8 8 9 0 0 7 6 1 2 8 4 4 8 3 4 8 7 1 2 8 0 4 0 5 7 4 6 1 4 7 0 9 7 0 1 9 1\n",
      " 5 4 3 3 7 7 5 2 9 7 8 3 3 7 3 8 9 8 2 9 0 8 7 9 7 2 0 3 2 2 5 2 1 4 0 7 4\n",
      " 3 8 4 2 9 2 8 8 5 1 2 5 1 5 6 4 6 7 3 4 6 8 8 1 1 7 4 5 5 6 7 3 6 9 3 9 3\n",
      " 0 4 2 9 5 6 4 2 2 6 3 2 5 8 6 0 7 5 5 5 4 7 4 0 7 8 6 5 9 0 6 5 4 7 4 3 1\n",
      " 6 1 6 9 2 5 6 9 4 6 9 4 3 2 4 5 8 0 8 9 7 4 4 4 7 9 9 0 8 0 8 7 9 4 4 5 7\n",
      " 1 3 1 3 3 3 5 1 4 4 5 0 3 1 7 3 5 1 3 5 8 4 2 3 9 0 0 5 3 2 5 6 2 5 0 8 3\n",
      " 6 7 8 1 7 7 9 5 1 2 0 2 8 6 3 5 7 7 5 5 2 3 5 0 1 3 8 1 4 6 9 4 3 4 4 4 2\n",
      " 5 1 5 9 2 7 8 3 0 9 6 8 3 3 0 0 2 1 2 4 3 2 3 0 5 5 6 8 6 3 9 1 8 8 7 1 8\n",
      " 2 4 8 3 9 1 0 0 4 1 5 5 0 3 7 1 0 1 7 8 2 4 3 3 3 7 2 0 1 3 4 4 4 9 9 3 7\n",
      " 1 5 0 2 8 8 0 1 5 7 4 5 6 8 7 1 2 0 5 4 0 2 4 1 8 1 8 1 6 7 5 6 4 0 2 2 4\n",
      " 3 4 5 0 1 2 0 0 6 0 0 1 1 1 0 6 5 8 8 1 1 1 9 5 3 7 2 7 4 9 0 9 6 2 0 8 8\n",
      " 5 0 5 5 8 1 5 8 7 7 5 8 6 6 3 0 8 0 1 3 8 2 7 3 9 1 2 3 1 0 9 7 2 7 1 3 0\n",
      " 2 7 7 0 8 3 9 3 7 4 8 8 3 8 9 9 5 5 0 7 6 7 6 7 9 0 1 3 9 1 4 0 8 5 9 3 7\n",
      " 9 2 6 1 1 1 1 2 1 0 1 5 3 7 5 8 3 2 1 8 8 5 9 1 6 7 7 3 8 4 0 8 5 2 1 9 0\n",
      " 9 0 6 7 9 3 7 7 6 0 0 7 1 7 7 4 4 0 9 5 2 5 6 0 0 1 1 2 1 7 9 2 9 6 1 8 8\n",
      " 9 0 5 9 0 9 3 2 0 1 7 2 7 0 7 1 1 6 1 2 1 6 5 1 3 6 5 5 6 6 0 0 7 1 5 3 9\n",
      " 0 6 9 8 1 5 7 1 1 0 4 6 9 1 3 1 7 3 1 8 6 1 6 3 1 6 3 6 4 8 6 9 2 2 3 0 2\n",
      " 1 4 6 2 4 5 5 4 1 6 5 7 9 3 5 0 9 2 6 0 0 8 4 6 6 3 2 1 3 9 5 5 9 3 3 6 8\n",
      " 1 9 1 6 0 1 4 3 8 3 2 3 4 3 3 8 5 6 5 0 1 1 9 7 6 5 8 7 8 5 3 2 2 5 8 8 5\n",
      " 4 7 4 3 3 4 0 4 9 9 1 8 0 2 8 0 3 4 6 1 4 0 5 2 7 4 0 7 1 0 9 9 2 2 8 0 2\n",
      " 1 7 8 5 2 6 9 2 9 7 6 1 6 3 8 2 1 0 7 6 1 2 8 9 0 5 7 3 6 6 5 6 6 1 1 1 1\n",
      " 5 7 1 9 9 0 4 2 9 3 8 7 9 2 5 2 1 6 7 5 8 2 9 5 1 9 4 9 0 9 5 0 4 4 9 8 9\n",
      " 7 8 4 6 2 5 6 4 9 8 1 0 9 1 7 4 3 3 4 6 5 8 9 4 0 9 2 2 9 9 0 7 6 3 1 1 5\n",
      " 9 0 6 7 1 3 9 8 0 7 3 2 3 0 8 8 5 0 4 4 1 9 5 5 6 0 7 3 8 0 6 7 8 4 6 4 3\n",
      " 3 8 3 9 0 7 4 6 4 3 5 4 5 7 0 8 1 5 3 1 7 0 8 7 9 3 8 0 7 8 7 2 0 6 6 1 5\n",
      " 6 8 1 5 3 3 7 9 3 2 7 0 1 8 3 9 3 3 4 3 7 0 4 4 2 6 6 5 4 0 3 1 5 7 1 7 0\n",
      " 2 0 0 9 6 8 9 7 6 5 7 3 7 4 6 7 0 0 8 0 3 3 8 2 0 2 3 0 7 9 1 7 8 0 7 4 7\n",
      " 6]\n"
     ]
    }
   ]
  },
  {
   "cell_type": "code",
   "source": [
    "Y_train = train[0]\n",
    "X_train = train[1:n]/255\n",
    "print(\"X_train.shape:\",X_train.shape)\n",
    "print(\"Y_train.shape:\",Y_train.shape)\n",
    "print(\"X_train:\",X_train)\n",
    "print(\"Y_train:\",Y_train)"
   ],
   "metadata": {
    "_uuid": "01c5ffb9-dfe4-4822-bbd9-1c020e506add",
    "_cell_guid": "553e16fd-317a-4bc4-b249-97dde660372d",
    "collapsed": false,
    "execution": {
     "iopub.status.busy": "2023-10-10T03:18:14.432406Z",
     "iopub.execute_input": "2023-10-10T03:18:14.432754Z",
     "iopub.status.idle": "2023-10-10T03:18:14.507936Z",
     "shell.execute_reply.started": "2023-10-10T03:18:14.432735Z",
     "shell.execute_reply": "2023-10-10T03:18:14.507073Z"
    },
    "jupyter": {
     "outputs_hidden": false
    },
    "trusted": true,
    "pycharm": {
     "name": "#%%\n"
    }
   },
   "execution_count": 9,
   "outputs": [
    {
     "name": "stdout",
     "output_type": "stream",
     "text": [
      "X_train.shape: (784, 41000)\n",
      "Y_train.shape: (41000,)\n",
      "X_train: [[0. 0. 0. ... 0. 0. 0.]\n",
      " [0. 0. 0. ... 0. 0. 0.]\n",
      " [0. 0. 0. ... 0. 0. 0.]\n",
      " ...\n",
      " [0. 0. 0. ... 0. 0. 0.]\n",
      " [0. 0. 0. ... 0. 0. 0.]\n",
      " [0. 0. 0. ... 0. 0. 0.]]\n",
      "Y_train: [4 0 2 ... 2 0 0]\n"
     ]
    }
   ]
  },
  {
   "cell_type": "code",
   "source": [
    "print(\"X的第一列shape:\", X_train[:,0].shape) #x的第一列\n",
    "print(\"Label:\",Y_train)"
   ],
   "metadata": {
    "_uuid": "5d52be4e-10de-4036-82c0-2860ff38cb72",
    "_cell_guid": "b6e4ad2b-abcc-405f-8ffd-66cedccda934",
    "collapsed": false,
    "execution": {
     "iopub.status.busy": "2023-10-10T03:18:14.509031Z",
     "iopub.execute_input": "2023-10-10T03:18:14.509465Z",
     "iopub.status.idle": "2023-10-10T03:18:14.515286Z",
     "shell.execute_reply.started": "2023-10-10T03:18:14.509444Z",
     "shell.execute_reply": "2023-10-10T03:18:14.514090Z"
    },
    "jupyter": {
     "outputs_hidden": false
    },
    "trusted": true,
    "pycharm": {
     "name": "#%%\n"
    }
   },
   "execution_count": 10,
   "outputs": [
    {
     "name": "stdout",
     "output_type": "stream",
     "text": [
      "X的第一列shape: (784,)\n",
      "Label: [4 0 2 ... 2 0 0]\n"
     ]
    }
   ]
  },
  {
   "cell_type": "code",
   "source": [
    "def init_params():\n",
    "    # rand生成(0,1)的值，变为(-0.5,0.5)\n",
    "    W1 = np.random.rand(10, 784) - 0.5 \n",
    "    b1 = np.random.rand(10,1) - 0.5\n",
    "    W2 = np.random.rand(10, 10) - 0.5 \n",
    "    b2 = np.random.rand(10,1) - 0.5\n",
    "    return W1, b1, W2, b2\n",
    "    \n",
    "def ReLu(Z):\n",
    "    return np.maximum(0,Z)\n",
    "\n",
    "def softmax(Z):\n",
    "    return np.exp(Z)/ sum(np.exp(Z))\n",
    "\n",
    "def forward_prop(W1,b1,W2,b2,X):\n",
    "    Z1 = W1.dot(X) + b1\n",
    "    A1 = ReLu(Z1)\n",
    "    Z2 = W2.dot(A1) + b2\n",
    "    A2 = softmax(Z2)\n",
    "    return Z1, A1, Z2, A2\n",
    "    \n",
    "def one_hot(Y):\n",
    "    one_hot_Y = np.zeros((Y.size,Y.max()+1))\n",
    "    one_hot_Y[np.arange(Y.size), Y] = 1\n",
    "    one_hot_Y = one_hot_Y.T\n",
    "    return one_hot_Y\n",
    "\n",
    "# def one_hot(Y):\n",
    "#     one_hot_Y = np.zeros((Y.size, Y.max() + 1))\n",
    "#     one_hot_Y[np.arange(Y.size), Y] = 1\n",
    "#     one_hot_Y = one_hot_Y.T\n",
    "#     return one_hot_Y\n",
    "\n",
    "def ReLU_deriv(Z):\n",
    "    return Z > 0\n",
    "\n",
    "def backward_prop(Z1, A1, Z2, A2, W1, W2, X, Y):\n",
    "    one_hot_Y = one_hot(Y)\n",
    "    dZ2 = A2 - one_hot_Y\n",
    "    dW2 = 1 / m * dZ2.dot(A1.T)\n",
    "    db2 = 1 / m * np.sum(dZ2)\n",
    "    dZ1 = W2.T.dot(dZ2) * ReLU_deriv(Z1)\n",
    "    dW1 = 1 / m * dZ1.dot(X.T)\n",
    "    db1 = 1 / m * np.sum(dZ1)\n",
    "    return dW1, db1, dW2, db2\n",
    "\n",
    "def update_params(W1, b1, W2, b2, dW1, db1, dW2, db2, alpha):\n",
    "    W1 = W1 - alpha * dW1\n",
    "    b1 = b1 - alpha * db1    \n",
    "    W2 = W2 - alpha * dW2  \n",
    "    b2 = b2 - alpha * db2    \n",
    "    return W1, b1, W2, b2"
   ],
   "metadata": {
    "_uuid": "8571b776-5491-4b56-b22b-99cc35224bbe",
    "_cell_guid": "397fd79f-2575-4fcc-8020-7d16dca6d085",
    "collapsed": false,
    "execution": {
     "iopub.status.busy": "2023-10-10T03:18:14.517250Z",
     "iopub.execute_input": "2023-10-10T03:18:14.518059Z",
     "iopub.status.idle": "2023-10-10T03:18:14.531934Z",
     "shell.execute_reply.started": "2023-10-10T03:18:14.518018Z",
     "shell.execute_reply": "2023-10-10T03:18:14.530169Z"
    },
    "jupyter": {
     "outputs_hidden": false
    },
    "trusted": true,
    "pycharm": {
     "name": "#%%\n"
    }
   },
   "execution_count": 11,
   "outputs": []
  },
  {
   "cell_type": "code",
   "source": [
    "one_hot_Y = np.zeros(Y_train.size,Y_train.max()+1)\n",
    "print(one_hot_Y.shape)\n",
    "print(one_hot_Y)\n",
    "print(np.arange(Y_train.size), Y_train)\n",
    "# print(one_hot_Y[np.arange(Y_train.size), Y_train])"
   ],
   "metadata": {
    "_uuid": "85e7c48d-004b-4042-b747-8b495db4b40f",
    "_cell_guid": "0fd0b8be-70da-4a5b-ae03-31803c730585",
    "collapsed": false,
    "execution": {
     "iopub.status.busy": "2023-10-10T03:18:14.534393Z",
     "iopub.execute_input": "2023-10-10T03:18:14.534726Z",
     "iopub.status.idle": "2023-10-10T03:18:14.552456Z",
     "shell.execute_reply.started": "2023-10-10T03:18:14.534700Z",
     "shell.execute_reply": "2023-10-10T03:18:14.550629Z"
    },
    "jupyter": {
     "outputs_hidden": false
    },
    "trusted": true,
    "pycharm": {
     "name": "#%%\n"
    }
   },
   "execution_count": 12,
   "outputs": [
    {
     "name": "stdout",
     "output_type": "stream",
     "text": [
      "(41000,)\n",
      "[0 0 0 ... 0 0 0]\n",
      "[    0     1     2 ... 40997 40998 40999] [4 0 2 ... 2 0 0]\n"
     ]
    }
   ]
  },
  {
   "cell_type": "code",
   "source": [
    "def get_predictions(A2):\n",
    "    return np.argmax(A2, 0)\n",
    "\n",
    "def get_accuracy(predictions, Y):\n",
    "    print(\"predictions:\", predictions)\n",
    "    print(\"label:\",Y)\n",
    "    return np.sum(predictions == Y) / Y.size\n",
    "\n",
    "def gradient_descent(X, Y, alpha, iterations):\n",
    "    W1, b1, W2, b2 = init_params()\n",
    "    for i in range(iterations):\n",
    "        Z1, A1, Z2, A2 = forward_prop(W1, b1, W2, b2, X)\n",
    "        dW1, db1, dW2, db2 = backward_prop(Z1, A1, Z2, A2, W1, W2, X, Y)\n",
    "        W1, b1, W2, b2 = update_params(W1, b1, W2, b2, dW1, db1, dW2, db2, alpha)\n",
    "#         predictions = get_predictions(A2)\n",
    "#         print(\"Iteration: \", i)\n",
    "#         print(\"predictions:\", predictions, Y)\n",
    "        if i % 20 == 0:\n",
    "            print(\"Iteration: \", i)\n",
    "            predictions = get_predictions(A2)\n",
    "            print(\"Accuracy:\",get_accuracy(predictions, Y))\n",
    "    return W1, b1, W2, b2"
   ],
   "metadata": {
    "_uuid": "cf835c48-fe4e-4252-8140-4dee90c9da74",
    "_cell_guid": "c93a7751-4e05-4608-8832-4a51704a74d2",
    "collapsed": false,
    "execution": {
     "iopub.status.busy": "2023-10-10T03:18:14.554150Z",
     "iopub.execute_input": "2023-10-10T03:18:14.554567Z",
     "iopub.status.idle": "2023-10-10T03:18:14.566608Z",
     "shell.execute_reply.started": "2023-10-10T03:18:14.554533Z",
     "shell.execute_reply": "2023-10-10T03:18:14.565695Z"
    },
    "jupyter": {
     "outputs_hidden": false
    },
    "trusted": true,
    "pycharm": {
     "name": "#%%\n"
    }
   },
   "execution_count": 13,
   "outputs": []
  },
  {
   "cell_type": "code",
   "source": [
    "# training\n",
    "alpha = 0.1\n",
    "interations = 500\n",
    "W1, b1, W2, b2 = gradient_descent(X_train, Y_train, alpha, interations)"
   ],
   "metadata": {
    "_uuid": "8adede0a-137b-4043-9678-a677ca0ba242",
    "_cell_guid": "eb9e825f-f19b-408d-a0ce-e246a26faee2",
    "collapsed": false,
    "execution": {
     "iopub.status.busy": "2023-10-10T03:18:14.568839Z",
     "iopub.execute_input": "2023-10-10T03:18:14.569094Z",
     "iopub.status.idle": "2023-10-10T03:18:49.501827Z",
     "shell.execute_reply.started": "2023-10-10T03:18:14.569072Z",
     "shell.execute_reply": "2023-10-10T03:18:49.501023Z"
    },
    "jupyter": {
     "outputs_hidden": false
    },
    "trusted": true,
    "pycharm": {
     "name": "#%%\n"
    }
   },
   "execution_count": 14,
   "outputs": [
    {
     "name": "stdout",
     "output_type": "stream",
     "text": [
      "Iteration:  0\n",
      "predictions: [6 7 7 ... 7 0 7]\n",
      "label: [4 0 2 ... 2 0 0]\n",
      "Accuracy: 0.0666829268292683\n",
      "Iteration:  20\n",
      "predictions: [6 3 4 ... 8 3 0]\n",
      "label: [4 0 2 ... 2 0 0]\n",
      "Accuracy: 0.22192682926829269\n",
      "Iteration:  40\n",
      "predictions: [4 0 4 ... 6 0 0]\n",
      "label: [4 0 2 ... 2 0 0]\n",
      "Accuracy: 0.3428048780487805\n",
      "Iteration:  60\n",
      "predictions: [4 0 4 ... 6 0 0]\n",
      "label: [4 0 2 ... 2 0 0]\n",
      "Accuracy: 0.46319512195121954\n",
      "Iteration:  80\n",
      "predictions: [4 0 4 ... 6 0 0]\n",
      "label: [4 0 2 ... 2 0 0]\n",
      "Accuracy: 0.5464146341463415\n",
      "Iteration:  100\n",
      "predictions: [4 0 2 ... 6 0 0]\n",
      "label: [4 0 2 ... 2 0 0]\n",
      "Accuracy: 0.6061951219512195\n",
      "Iteration:  120\n",
      "predictions: [4 0 2 ... 6 0 0]\n",
      "label: [4 0 2 ... 2 0 0]\n",
      "Accuracy: 0.6534634146341464\n",
      "Iteration:  140\n",
      "predictions: [4 0 2 ... 6 0 0]\n",
      "label: [4 0 2 ... 2 0 0]\n",
      "Accuracy: 0.6883170731707317\n",
      "Iteration:  160\n",
      "predictions: [4 0 2 ... 6 0 0]\n",
      "label: [4 0 2 ... 2 0 0]\n",
      "Accuracy: 0.713170731707317\n",
      "Iteration:  180\n",
      "predictions: [4 0 2 ... 6 0 0]\n",
      "label: [4 0 2 ... 2 0 0]\n",
      "Accuracy: 0.7321463414634146\n",
      "Iteration:  200\n",
      "predictions: [4 0 2 ... 6 0 0]\n",
      "label: [4 0 2 ... 2 0 0]\n",
      "Accuracy: 0.7492439024390244\n",
      "Iteration:  220\n",
      "predictions: [4 0 2 ... 6 0 0]\n",
      "label: [4 0 2 ... 2 0 0]\n",
      "Accuracy: 0.7633658536585366\n",
      "Iteration:  240\n",
      "predictions: [4 0 2 ... 6 0 0]\n",
      "label: [4 0 2 ... 2 0 0]\n",
      "Accuracy: 0.774390243902439\n",
      "Iteration:  260\n",
      "predictions: [4 0 2 ... 6 0 0]\n",
      "label: [4 0 2 ... 2 0 0]\n",
      "Accuracy: 0.784609756097561\n",
      "Iteration:  280\n",
      "predictions: [4 0 2 ... 6 0 0]\n",
      "label: [4 0 2 ... 2 0 0]\n",
      "Accuracy: 0.7929512195121952\n",
      "Iteration:  300\n",
      "predictions: [4 0 2 ... 6 0 0]\n",
      "label: [4 0 2 ... 2 0 0]\n",
      "Accuracy: 0.8009512195121952\n",
      "Iteration:  320\n",
      "predictions: [4 0 2 ... 6 0 0]\n",
      "label: [4 0 2 ... 2 0 0]\n",
      "Accuracy: 0.8081463414634147\n",
      "Iteration:  340\n",
      "predictions: [4 0 2 ... 6 0 0]\n",
      "label: [4 0 2 ... 2 0 0]\n",
      "Accuracy: 0.8144146341463414\n",
      "Iteration:  360\n",
      "predictions: [4 0 2 ... 6 0 0]\n",
      "label: [4 0 2 ... 2 0 0]\n",
      "Accuracy: 0.8200731707317073\n",
      "Iteration:  380\n",
      "predictions: [4 0 2 ... 6 0 0]\n",
      "label: [4 0 2 ... 2 0 0]\n",
      "Accuracy: 0.8248048780487804\n",
      "Iteration:  400\n",
      "predictions: [4 0 2 ... 6 0 0]\n",
      "label: [4 0 2 ... 2 0 0]\n",
      "Accuracy: 0.8299268292682926\n",
      "Iteration:  420\n",
      "predictions: [4 0 2 ... 6 0 0]\n",
      "label: [4 0 2 ... 2 0 0]\n",
      "Accuracy: 0.833780487804878\n",
      "Iteration:  440\n",
      "predictions: [4 0 2 ... 6 0 0]\n",
      "label: [4 0 2 ... 2 0 0]\n",
      "Accuracy: 0.8381951219512195\n",
      "Iteration:  460\n",
      "predictions: [4 0 2 ... 2 0 0]\n",
      "label: [4 0 2 ... 2 0 0]\n",
      "Accuracy: 0.841170731707317\n",
      "Iteration:  480\n",
      "predictions: [4 0 2 ... 2 0 0]\n",
      "label: [4 0 2 ... 2 0 0]\n",
      "Accuracy: 0.8446829268292683\n"
     ]
    }
   ]
  },
  {
   "cell_type": "code",
   "source": [
    "def make_predictions(X,W1,b1,W2,b2):\n",
    "    _, _, _, A2 = forward_prop(W1, b1, W2, b2, X)\n",
    "    predictions = get_predictions(A2)\n",
    "    return predictions\n",
    "\n",
    "def test_prediction(index,W1,b1,W2,b2):\n",
    "    current_image = X_train[:,index,None]\n",
    "    prediction = make_predictions(X_train[:, index, None], W1, b1, W2, b2)\n",
    "    label = Y_train[index]\n",
    "    print(X_train.shape,X_train)\n",
    "    print(\"Prediction: \", prediction)\n",
    "    print(\"Label: \", label)\n",
    "    \n",
    "    current_image = current_image.reshape((28, 28)) * 255\n",
    "    plt.gray()\n",
    "    plt.imshow(current_image, interpolation='nearest')\n",
    "    plt.show()"
   ],
   "metadata": {
    "_uuid": "888331e6-7129-47b4-bc73-ebbc0372ffaf",
    "_cell_guid": "119c0a30-370c-4f96-9215-ad18cb65076b",
    "collapsed": false,
    "execution": {
     "iopub.status.busy": "2023-10-10T03:18:49.503140Z",
     "iopub.execute_input": "2023-10-10T03:18:49.503672Z",
     "iopub.status.idle": "2023-10-10T03:18:49.509856Z",
     "shell.execute_reply.started": "2023-10-10T03:18:49.503643Z",
     "shell.execute_reply": "2023-10-10T03:18:49.509130Z"
    },
    "jupyter": {
     "outputs_hidden": false
    },
    "trusted": true,
    "pycharm": {
     "name": "#%%\n"
    }
   },
   "execution_count": 15,
   "outputs": []
  },
  {
   "cell_type": "code",
   "source": [
    "test_prediction(0, W1, b1, W2, b2)\n",
    "test_prediction(1, W1, b1, W2, b2)\n",
    "test_prediction(2, W1, b1, W2, b2)\n",
    "test_prediction(3, W1, b1, W2, b2)"
   ],
   "metadata": {
    "_uuid": "258b570b-1b44-42ef-b1d9-58f56da616bd",
    "_cell_guid": "fa5cca33-aede-4fcc-8ef3-f9d95d243886",
    "collapsed": false,
    "execution": {
     "iopub.status.busy": "2023-10-10T03:18:49.511136Z",
     "iopub.execute_input": "2023-10-10T03:18:49.511791Z",
     "iopub.status.idle": "2023-10-10T03:18:50.072975Z",
     "shell.execute_reply.started": "2023-10-10T03:18:49.511767Z",
     "shell.execute_reply": "2023-10-10T03:18:50.071699Z"
    },
    "jupyter": {
     "outputs_hidden": false
    },
    "trusted": true,
    "pycharm": {
     "name": "#%%\n"
    }
   },
   "execution_count": 16,
   "outputs": [
    {
     "name": "stdout",
     "output_type": "stream",
     "text": [
      "(784, 41000) [[0. 0. 0. ... 0. 0. 0.]\n",
      " [0. 0. 0. ... 0. 0. 0.]\n",
      " [0. 0. 0. ... 0. 0. 0.]\n",
      " ...\n",
      " [0. 0. 0. ... 0. 0. 0.]\n",
      " [0. 0. 0. ... 0. 0. 0.]\n",
      " [0. 0. 0. ... 0. 0. 0.]]\n",
      "Prediction:  [4]\n",
      "Label:  4\n"
     ]
    },
    {
     "data": {
      "text/plain": "<Figure size 640x480 with 1 Axes>",
      "image/png": "[encoded data removed]"
     },
     "metadata": {},
     "output_type": "display_data"
    },
    {
     "name": "stdout",
     "output_type": "stream",
     "text": [
      "(784, 41000) [[0. 0. 0. ... 0. 0. 0.]\n",
      " [0. 0. 0. ... 0. 0. 0.]\n",
      " [0. 0. 0. ... 0. 0. 0.]\n",
      " ...\n",
      " [0. 0. 0. ... 0. 0. 0.]\n",
      " [0. 0. 0. ... 0. 0. 0.]\n",
      " [0. 0. 0. ... 0. 0. 0.]]\n",
      "Prediction:  [0]\n",
      "Label:  0\n"
     ]
    },
    {
     "data": {
      "text/plain": "<Figure size 640x480 with 1 Axes>",
      "image/png": "[encoded data removed]"
     },
     "metadata": {},
     "output_type": "display_data"
    },
    {
     "name": "stdout",
     "output_type": "stream",
     "text": [
      "(784, 41000) [[0. 0. 0. ... 0. 0. 0.]\n",
      " [0. 0. 0. ... 0. 0. 0.]\n",
      " [0. 0. 0. ... 0. 0. 0.]\n",
      " ...\n",
      " [0. 0. 0. ... 0. 0. 0.]\n",
      " [0. 0. 0. ... 0. 0. 0.]\n",
      " [0. 0. 0. ... 0. 0. 0.]]\n",
      "Prediction:  [2]\n",
      "Label:  2\n"
     ]
    },
    {
     "data": {
      "text/plain": "<Figure size 640x480 with 1 Axes>",
      "image/png": "[encoded data removed]"
     },
     "metadata": {},
     "output_type": "display_data"
    },
    {
     "name": "stdout",
     "output_type": "stream",
     "text": [
      "(784, 41000) [[0. 0. 0. ... 0. 0. 0.]\n",
      " [0. 0. 0. ... 0. 0. 0.]\n",
      " [0. 0. 0. ... 0. 0. 0.]\n",
      " ...\n",
      " [0. 0. 0. ... 0. 0. 0.]\n",
      " [0. 0. 0. ... 0. 0. 0.]\n",
      " [0. 0. 0. ... 0. 0. 0.]]\n",
      "Prediction:  [0]\n",
      "Label:  0\n"
     ]
    },
    {
     "data": {
      "text/plain": "<Figure size 640x480 with 1 Axes>",
      "image/png": "[encoded data removed]"
     },
     "metadata": {},
     "output_type": "display_data"
    }
   ]
  },
  {
   "cell_type": "code",
   "source": [
    "# Finally, let's find the accuracy on the dev set:\n",
    "dev_predictions = make_predictions(X_dev, W1, b1, W2, b2)\n",
    "accuracy = get_accuracy(dev_predictions, Y_dev)\n",
    "print(\"Accuracy:\",accuracy)"
   ],
   "metadata": {
    "_uuid": "a4816355-6cb0-44c0-a8ea-cc2bfe59e588",
    "_cell_guid": "b807e1fa-5388-48dd-a989-d8c0cc62df57",
    "collapsed": false,
    "execution": {
     "iopub.status.busy": "2023-10-10T03:18:50.074737Z",
     "iopub.execute_input": "2023-10-10T03:18:50.076569Z",
     "iopub.status.idle": "2023-10-10T03:18:50.088650Z",
     "shell.execute_reply.started": "2023-10-10T03:18:50.076525Z",
     "shell.execute_reply": "2023-10-10T03:18:50.087733Z"
    },
    "jupyter": {
     "outputs_hidden": false
    },
    "trusted": true,
    "pycharm": {
     "name": "#%%\n"
    }
   },
   "execution_count": 17,
   "outputs": [
    {
     "name": "stdout",
     "output_type": "stream",
     "text": [
      "predictions: [8 8 9 0 0 7 6 1 2 8 4 4 2 5 4 8 7 1 8 8 0 4 0 5 7 4 6 1 9 7 0 7 7 0 1 4 1\n",
      " 3 4 3 3 7 9 5 8 9 7 1 3 7 7 5 8 9 8 2 9 0 8 7 9 9 2 0 3 2 2 9 2 1 4 0 7 4\n",
      " 3 8 4 2 9 2 1 8 5 1 2 8 1 4 6 4 6 7 3 4 6 5 8 1 1 7 4 2 5 6 7 3 6 9 3 9 3\n",
      " 0 4 2 9 5 6 4 2 2 6 3 9 5 9 6 5 7 2 5 3 4 7 4 0 7 8 6 5 9 0 6 5 4 7 4 9 1\n",
      " 6 1 6 9 2 5 6 7 4 6 9 4 3 3 4 5 8 0 8 4 7 4 4 4 7 9 8 0 8 0 8 7 8 4 4 5 7\n",
      " 1 3 1 3 3 3 5 1 4 4 5 0 3 1 1 3 5 1 3 5 8 4 2 3 9 0 0 5 3 2 5 6 2 0 0 5 3\n",
      " 4 5 8 1 7 7 9 0 5 3 0 8 8 6 3 3 7 7 6 3 2 3 5 0 8 3 8 1 4 6 9 4 3 4 4 4 2\n",
      " 5 1 1 9 8 7 1 3 0 9 6 1 3 3 0 0 2 1 2 4 3 2 3 0 0 5 6 8 6 3 9 1 8 8 7 1 8\n",
      " 2 4 8 3 9 1 0 0 4 1 5 6 0 3 7 1 0 1 7 8 2 4 3 3 3 7 2 6 1 3 4 4 6 5 1 3 7\n",
      " 1 7 0 2 8 8 0 1 5 7 9 5 2 8 7 1 2 0 5 4 0 2 4 1 8 1 8 1 6 7 3 6 4 0 2 4 4\n",
      " 3 4 5 0 1 5 0 0 6 8 0 1 7 1 0 6 5 8 8 1 1 1 9 5 3 7 2 7 4 4 0 9 6 1 0 8 8\n",
      " 5 0 5 5 8 1 5 8 7 7 5 8 6 6 3 0 8 0 1 3 8 2 7 3 9 1 2 1 1 0 9 7 2 7 1 6 0\n",
      " 8 7 7 0 8 3 4 3 7 4 9 8 9 3 0 9 5 5 0 7 6 7 2 9 9 0 1 3 9 1 9 0 8 5 9 3 7\n",
      " 9 2 6 1 1 1 8 2 1 0 1 5 3 7 7 8 9 2 1 8 8 5 9 1 6 7 7 3 8 9 0 8 5 2 1 9 0\n",
      " 9 2 6 7 9 3 7 7 3 0 0 7 1 7 7 4 4 0 9 5 2 5 6 0 0 1 1 2 1 7 9 2 9 6 1 8 8\n",
      " 9 0 5 9 0 7 3 2 0 1 7 2 7 0 7 1 1 6 1 2 1 6 5 1 3 0 5 6 6 6 0 0 7 1 5 3 9\n",
      " 0 5 9 8 1 5 7 1 1 0 4 6 9 1 3 1 7 3 1 8 6 1 6 3 1 6 3 6 4 8 6 9 2 2 3 0 2\n",
      " 1 4 6 2 4 5 4 4 1 6 5 7 9 5 5 0 9 2 6 0 0 6 9 6 6 3 2 1 9 9 5 5 9 3 6 6 8\n",
      " 1 9 1 6 3 1 9 3 8 3 2 3 4 3 3 1 5 6 5 2 1 1 9 7 6 4 8 7 2 5 3 2 1 4 8 8 5\n",
      " 4 7 6 5 3 4 0 4 9 9 1 8 0 0 8 0 3 4 5 1 4 0 5 2 7 9 0 7 1 0 9 9 2 2 8 0 2\n",
      " 1 7 8 5 2 6 9 2 9 7 6 1 6 3 8 2 1 0 7 6 1 2 8 6 0 5 7 3 6 6 5 6 6 1 1 1 1\n",
      " 5 7 1 9 4 0 4 2 7 3 8 7 9 2 5 2 1 5 7 5 8 2 4 8 1 9 4 9 0 9 8 0 4 6 9 8 9\n",
      " 7 8 9 6 2 8 6 4 9 8 1 0 9 1 7 4 3 3 4 6 5 8 9 4 0 7 2 2 4 9 0 7 6 3 1 1 9\n",
      " 9 0 6 7 1 3 9 8 0 7 3 2 3 0 8 8 9 0 4 4 1 8 3 7 6 0 2 3 8 0 6 7 8 4 6 4 6\n",
      " 3 5 3 9 0 7 4 6 9 9 5 4 3 7 5 8 1 5 3 1 7 2 8 7 9 3 8 2 9 8 2 2 0 6 6 1 5\n",
      " 6 8 1 2 3 3 7 9 3 2 7 0 1 8 3 7 3 3 4 3 7 0 9 4 2 6 5 5 4 0 3 1 5 9 1 7 0\n",
      " 2 0 0 9 6 8 9 7 6 5 7 3 7 4 6 7 0 0 8 0 3 8 8 2 0 2 3 0 7 9 1 7 8 5 8 4 7\n",
      " 6]\n",
      "label: [8 8 9 0 0 7 6 1 2 8 4 4 8 3 4 8 7 1 2 8 0 4 0 5 7 4 6 1 4 7 0 9 7 0 1 9 1\n",
      " 5 4 3 3 7 7 5 2 9 7 8 3 3 7 3 8 9 8 2 9 0 8 7 9 7 2 0 3 2 2 5 2 1 4 0 7 4\n",
      " 3 8 4 2 9 2 8 8 5 1 2 5 1 5 6 4 6 7 3 4 6 8 8 1 1 7 4 5 5 6 7 3 6 9 3 9 3\n",
      " 0 4 2 9 5 6 4 2 2 6 3 2 5 8 6 0 7 5 5 5 4 7 4 0 7 8 6 5 9 0 6 5 4 7 4 3 1\n",
      " 6 1 6 9 2 5 6 9 4 6 9 4 3 2 4 5 8 0 8 9 7 4 4 4 7 9 9 0 8 0 8 7 9 4 4 5 7\n",
      " 1 3 1 3 3 3 5 1 4 4 5 0 3 1 7 3 5 1 3 5 8 4 2 3 9 0 0 5 3 2 5 6 2 5 0 8 3\n",
      " 6 7 8 1 7 7 9 5 1 2 0 2 8 6 3 5 7 7 5 5 2 3 5 0 1 3 8 1 4 6 9 4 3 4 4 4 2\n",
      " 5 1 5 9 2 7 8 3 0 9 6 8 3 3 0 0 2 1 2 4 3 2 3 0 5 5 6 8 6 3 9 1 8 8 7 1 8\n",
      " 2 4 8 3 9 1 0 0 4 1 5 5 0 3 7 1 0 1 7 8 2 4 3 3 3 7 2 0 1 3 4 4 4 9 9 3 7\n",
      " 1 5 0 2 8 8 0 1 5 7 4 5 6 8 7 1 2 0 5 4 0 2 4 1 8 1 8 1 6 7 5 6 4 0 2 2 4\n",
      " 3 4 5 0 1 2 0 0 6 0 0 1 1 1 0 6 5 8 8 1 1 1 9 5 3 7 2 7 4 9 0 9 6 2 0 8 8\n",
      " 5 0 5 5 8 1 5 8 7 7 5 8 6 6 3 0 8 0 1 3 8 2 7 3 9 1 2 3 1 0 9 7 2 7 1 3 0\n",
      " 2 7 7 0 8 3 9 3 7 4 8 8 3 8 9 9 5 5 0 7 6 7 6 7 9 0 1 3 9 1 4 0 8 5 9 3 7\n",
      " 9 2 6 1 1 1 1 2 1 0 1 5 3 7 5 8 3 2 1 8 8 5 9 1 6 7 7 3 8 4 0 8 5 2 1 9 0\n",
      " 9 0 6 7 9 3 7 7 6 0 0 7 1 7 7 4 4 0 9 5 2 5 6 0 0 1 1 2 1 7 9 2 9 6 1 8 8\n",
      " 9 0 5 9 0 9 3 2 0 1 7 2 7 0 7 1 1 6 1 2 1 6 5 1 3 6 5 5 6 6 0 0 7 1 5 3 9\n",
      " 0 6 9 8 1 5 7 1 1 0 4 6 9 1 3 1 7 3 1 8 6 1 6 3 1 6 3 6 4 8 6 9 2 2 3 0 2\n",
      " 1 4 6 2 4 5 5 4 1 6 5 7 9 3 5 0 9 2 6 0 0 8 4 6 6 3 2 1 3 9 5 5 9 3 3 6 8\n",
      " 1 9 1 6 0 1 4 3 8 3 2 3 4 3 3 8 5 6 5 0 1 1 9 7 6 5 8 7 8 5 3 2 2 5 8 8 5\n",
      " 4 7 4 3 3 4 0 4 9 9 1 8 0 2 8 0 3 4 6 1 4 0 5 2 7 4 0 7 1 0 9 9 2 2 8 0 2\n",
      " 1 7 8 5 2 6 9 2 9 7 6 1 6 3 8 2 1 0 7 6 1 2 8 9 0 5 7 3 6 6 5 6 6 1 1 1 1\n",
      " 5 7 1 9 9 0 4 2 9 3 8 7 9 2 5 2 1 6 7 5 8 2 9 5 1 9 4 9 0 9 5 0 4 4 9 8 9\n",
      " 7 8 4 6 2 5 6 4 9 8 1 0 9 1 7 4 3 3 4 6 5 8 9 4 0 9 2 2 9 9 0 7 6 3 1 1 5\n",
      " 9 0 6 7 1 3 9 8 0 7 3 2 3 0 8 8 5 0 4 4 1 9 5 5 6 0 7 3 8 0 6 7 8 4 6 4 3\n",
      " 3 8 3 9 0 7 4 6 4 3 5 4 5 7 0 8 1 5 3 1 7 0 8 7 9 3 8 0 7 8 7 2 0 6 6 1 5\n",
      " 6 8 1 5 3 3 7 9 3 2 7 0 1 8 3 9 3 3 4 3 7 0 4 4 2 6 6 5 4 0 3 1 5 7 1 7 0\n",
      " 2 0 0 9 6 8 9 7 6 5 7 3 7 4 6 7 0 0 8 0 3 3 8 2 0 2 3 0 7 9 1 7 8 0 7 4 7\n",
      " 6]\n",
      "Accuracy: 0.861\n"
     ]
    }
   ]
  }
 ]
}